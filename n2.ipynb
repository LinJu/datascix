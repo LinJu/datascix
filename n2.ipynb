{
    "nbformat_minor": 0, 
    "metadata": {
        "kernelspec": {
            "name": "python2", 
            "display_name": "Python 2", 
            "language": "python"
        }, 
        "language_info": {
            "mimetype": "text/x-python", 
            "codemirror_mode": {
                "name": "ipython", 
                "version": 2
            }, 
            "pygments_lexer": "ipython2", 
            "nbconvert_exporter": "python", 
            "name": "python", 
            "file_extension": ".py", 
            "version": "2.7.11"
        }
    }, 
    "cells": [
        {
            "outputs": [], 
            "source": "from StringIO import StringIO\nimport requests\nimport json\nimport pandas as pd\n\n# This function includes credentials to your Object Storage.\n# You might want to remove those credentials before you share your notebook.\ndef get_object_storage_file_with_credentials_b35a809ad0ee4760b11a359f2a99a821(container, filename):\n    \"\"\"This functions returns a StringIO object containing\n    the file content from Bluemix Object Storage V3.\"\"\"\n\n    url1 = ''.join(['https://identity.open.softlayer.com', '/v3/auth/tokens'])\n    data = {'auth': {'identity': {'methods': ['password'],\n            'password': {'user': {'name': 'Admin_45229448e3a8d9376b398c14c55b0afb755e14a3','domain': {'id': 'a60d5fa652cc40ceaf2210157a97c4ee'},\n            'password': 'En-9DK-WAe7k{cc9'}}}}}\n    headers1 = {'Content-Type': 'application/json'}\n    resp1 = requests.post(url=url1, data=json.dumps(data), headers=headers1)\n    resp1_body = resp1.json()\n    for e1 in resp1_body['token']['catalog']:\n        if(e1['type']=='object-store'):\n            for e2 in e1['endpoints']:\n                        if(e2['interface']=='public'and e2['region']=='dallas'):\n                            url2 = ''.join([e2['url'],'/', container, '/', filename])\n    s_subject_token = resp1.headers['x-subject-token']\n    headers2 = {'X-Auth-Token': s_subject_token, 'accept': 'application/json'}\n    resp2 = requests.get(url=url2, headers=headers2)\n    return StringIO(resp2.content)\n\ndf_data_1 = pd.read_csv(get_object_storage_file_with_credentials_b35a809ad0ee4760b11a359f2a99a821('Lin Container 6-1', 'CUSTOMER1_Eric.csv'))\ndf_data_1.head()credentials_1 = {\n  'database':'statecode'\n}", 
            "metadata": {
                "collapsed": true
            }, 
            "cell_type": "code", 
            "execution_count": null
        }
    ], 
    "nbformat": 4
}